{
 "cells": [
  {
   "cell_type": "code",
   "execution_count": 2,
   "id": "e93eb4c3-78cd-40a7-b890-695456b50cf7",
   "metadata": {},
   "outputs": [],
   "source": [
    "import torch\n",
    "import matplotlib\n",
    "import numpy"
   ]
  },
  {
   "cell_type": "code",
   "execution_count": 3,
   "id": "340bc840-ddcb-408b-b960-37ff5baf2c31",
   "metadata": {},
   "outputs": [],
   "source": [
    "embed = torch.nn.Embedding(10, 3)"
   ]
  },
  {
   "cell_type": "code",
   "execution_count": 4,
   "id": "a1afd907-6393-46a2-b8b9-23bd8aa52bf2",
   "metadata": {},
   "outputs": [],
   "source": [
    "a = torch.LongTensor([1])"
   ]
  },
  {
   "cell_type": "code",
   "execution_count": 5,
   "id": "52132abd-603a-40c9-8fa1-90975b55dfbe",
   "metadata": {},
   "outputs": [
    {
     "data": {
      "text/plain": [
       "tensor([[0.7273, 0.2675, 0.9042]], grad_fn=<EmbeddingBackward0>)"
      ]
     },
     "execution_count": 5,
     "metadata": {},
     "output_type": "execute_result"
    }
   ],
   "source": [
    "embed(a)"
   ]
  },
  {
   "cell_type": "code",
   "execution_count": 8,
   "id": "7fb9eeb3-3b2d-4478-8958-4bed7d7d3ef4",
   "metadata": {},
   "outputs": [
    {
     "data": {
      "text/plain": [
       "torch.Size([5, 1])"
      ]
     },
     "execution_count": 8,
     "metadata": {},
     "output_type": "execute_result"
    }
   ],
   "source": [
    "torch.Tensor([1,2,3,4,5]).unsqueeze(1).shape"
   ]
  },
  {
   "cell_type": "code",
   "execution_count": 9,
   "id": "03f01d6f-e6f6-4bdd-ad27-626d6047e257",
   "metadata": {},
   "outputs": [
    {
     "data": {
      "text/plain": [
       "torch.Size([5, 1, 1])"
      ]
     },
     "execution_count": 9,
     "metadata": {},
     "output_type": "execute_result"
    }
   ],
   "source": [
    "torch.Tensor([1,2,3,4,5]).unsqueeze(1).unsqueeze(2).shape"
   ]
  },
  {
   "cell_type": "markdown",
   "id": "0cc52d1b-e09f-4e3c-b6a1-4624cae08c5a",
   "metadata": {},
   "source": [
    "key_padding_mask.shape = (...)\n",
    "key_padding_mask = torch.cat([key_padding_mask, key_padding_mask.new_zeros(size(0), 1)], dim = 1)\n",
    "    shape is now (_, "
   ]
  }
 ],
 "metadata": {
  "kernelspec": {
   "display_name": "Python 3 (ipykernel)",
   "language": "python",
   "name": "python3"
  },
  "language_info": {
   "codemirror_mode": {
    "name": "ipython",
    "version": 3
   },
   "file_extension": ".py",
   "mimetype": "text/x-python",
   "name": "python",
   "nbconvert_exporter": "python",
   "pygments_lexer": "ipython3",
   "version": "3.12.4"
  }
 },
 "nbformat": 4,
 "nbformat_minor": 5
}
