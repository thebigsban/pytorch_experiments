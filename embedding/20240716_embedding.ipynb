{
 "cells": [
  {
   "cell_type": "code",
   "execution_count": 1,
   "id": "e93eb4c3-78cd-40a7-b890-695456b50cf7",
   "metadata": {},
   "outputs": [],
   "source": [
    "import torch\n",
    "import matplotlib\n",
    "import numpy"
   ]
  },
  {
   "cell_type": "code",
   "execution_count": 2,
   "id": "340bc840-ddcb-408b-b960-37ff5baf2c31",
   "metadata": {},
   "outputs": [],
   "source": [
    "embed = torch.nn.Embedding(10, 3)"
   ]
  },
  {
   "cell_type": "code",
   "execution_count": 5,
   "id": "a1afd907-6393-46a2-b8b9-23bd8aa52bf2",
   "metadata": {},
   "outputs": [],
   "source": [
    "a = torch.LongTensor([1])"
   ]
  },
  {
   "cell_type": "code",
   "execution_count": 6,
   "id": "52132abd-603a-40c9-8fa1-90975b55dfbe",
   "metadata": {},
   "outputs": [
    {
     "data": {
      "text/plain": [
       "tensor([[ 0.0828, -0.2193,  1.2948]], grad_fn=<EmbeddingBackward0>)"
      ]
     },
     "execution_count": 6,
     "metadata": {},
     "output_type": "execute_result"
    }
   ],
   "source": [
    "embed(a)"
   ]
  },
  {
   "cell_type": "code",
   "execution_count": null,
   "id": "7fb9eeb3-3b2d-4478-8958-4bed7d7d3ef4",
   "metadata": {},
   "outputs": [],
   "source": []
  }
 ],
 "metadata": {
  "kernelspec": {
   "display_name": "Python 3 (ipykernel)",
   "language": "python",
   "name": "python3"
  },
  "language_info": {
   "codemirror_mode": {
    "name": "ipython",
    "version": 3
   },
   "file_extension": ".py",
   "mimetype": "text/x-python",
   "name": "python",
   "nbconvert_exporter": "python",
   "pygments_lexer": "ipython3",
   "version": "3.12.4"
  }
 },
 "nbformat": 4,
 "nbformat_minor": 5
}
