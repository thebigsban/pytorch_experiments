{
 "cells": [
  {
   "cell_type": "code",
   "execution_count": 14,
   "id": "5df7f904-a0e8-4c9e-afc6-a84d12877e5e",
   "metadata": {},
   "outputs": [],
   "source": [
    "import tokenizers\n",
    "from tokenizers import Tokenizer, decoders, models, normalizers, pre_tokenizers, trainers"
   ]
  },
  {
   "cell_type": "code",
   "execution_count": 15,
   "id": "b0ee53c6-9e98-4a83-a3c8-71f0b584c17e",
   "metadata": {},
   "outputs": [],
   "source": [
    "with open('../../sample_data/uniprotkb_seqs.txt', 'r') as f:\n",
    "    seqs = f.readlines()"
   ]
  },
  {
   "cell_type": "code",
   "execution_count": 57,
   "id": "fbf573b8-db14-415a-a953-9d2787140bff",
   "metadata": {},
   "outputs": [],
   "source": [
    "seqs = [seq.strip() for seq in seqs]"
   ]
  },
  {
   "cell_type": "markdown",
   "id": "19f45a8c-49db-4990-a67e-4b2644c2dfe4",
   "metadata": {},
   "source": [
    "1. Normalizer\n",
    "2. Pre-tokenize\n",
    "3. Model (tokenization)\n",
    "4. Post-processing (adding special tokens)\n"
   ]
  },
  {
   "cell_type": "code",
   "execution_count": 73,
   "id": "5cdd0063-6e6e-4c5c-ae70-a0799d807dd4",
   "metadata": {},
   "outputs": [],
   "source": []
  },
  {
   "cell_type": "code",
   "execution_count": 75,
   "id": "76d46e66-656b-4aec-8496-fdaed114fc1a",
   "metadata": {},
   "outputs": [
    {
     "data": {
      "text/plain": [
       "'KDAMRRYQGIQTCKIPGKVLSDLDAKIKAYNL'"
      ]
     },
     "execution_count": 75,
     "metadata": {},
     "output_type": "execute_result"
    }
   ],
   "source": [
    "normalizer.normalize_str(\"KDAMRRYQGIQTCKIPGKVLSDLDAKIKAYNL\")\n"
   ]
  },
  {
   "cell_type": "code",
   "execution_count": 86,
   "id": "8eafdf46-19b5-4521-92a9-e3d9cd7ee593",
   "metadata": {},
   "outputs": [],
   "source": [
    "tokenizer = Tokenizer(models.BPE())\n",
    "tokenizer.normalizer = normalizers.Sequence([normalizers.NFD(), normalizers.StripAccents()])\n",
    "tokenizer.pre_tokenizer = pre_tokenizers.ByteLevel()\n",
    "tokenizer.decoder = decoders.ByteLevel()\n",
    "trainer = trainers.BpeTrainer(\n",
    "    initial_alphabet = alphabet,\n",
    "    vocab_size=1000,\n",
    "    show_progress = True,\n",
    "    special_tokens=[]\n",
    ")"
   ]
  },
  {
   "cell_type": "code",
   "execution_count": null,
   "id": "b252d5ab-0364-481f-ae5a-245af470a111",
   "metadata": {},
   "outputs": [],
   "source": [
    "tokenizer.train_from_iterator(seqs, trainer=trainer)"
   ]
  },
  {
   "cell_type": "code",
   "execution_count": 79,
   "id": "49f84209-ba3b-4cc5-9812-58345ce4f109",
   "metadata": {},
   "outputs": [],
   "source": [
    "output = tokenizer.encode(\"KDAMRRYQGIQTCKIPGKVLSDLDAKIKAYNL\")"
   ]
  },
  {
   "cell_type": "code",
   "execution_count": 80,
   "id": "ab24284f-640d-42a8-939c-9e6d32dc0713",
   "metadata": {},
   "outputs": [
    {
     "data": {
      "text/plain": [
       "Encoding(num_tokens=2, attributes=[ids, type_ids, tokens, offsets, attention_mask, special_tokens_mask, overflowing])"
      ]
     },
     "execution_count": 80,
     "metadata": {},
     "output_type": "execute_result"
    }
   ],
   "source": [
    "output"
   ]
  },
  {
   "cell_type": "code",
   "execution_count": 81,
   "id": "7322bbc0-81fa-41ad-944e-47a4d687dfe0",
   "metadata": {},
   "outputs": [
    {
     "name": "stdout",
     "output_type": "stream",
     "text": [
      "['KCKK', 'VKK']\n",
      "[678, 103]\n"
     ]
    }
   ],
   "source": [
    "print(output.tokens)\n",
    "print(output.ids)"
   ]
  },
  {
   "cell_type": "code",
   "execution_count": 82,
   "id": "cdf6d42b-5592-46fd-9caf-f9fa889909f4",
   "metadata": {},
   "outputs": [
    {
     "data": {
      "text/plain": [
       "'KCKKVKK'"
      ]
     },
     "execution_count": 82,
     "metadata": {},
     "output_type": "execute_result"
    }
   ],
   "source": [
    "tokenizer.decode(output.ids)"
   ]
  },
  {
   "cell_type": "code",
   "execution_count": 49,
   "id": "4ecc24cf-9f19-4a6f-a1a9-09cc5a868577",
   "metadata": {},
   "outputs": [
    {
     "data": {
      "text/plain": [
       "'MAFSAEDVLKEYDRRRRMEALLLSLYYPNDRKLLDYKEWSPPRVQVECPKAPVEWNNPPSEKGLIVGHFSGIKYKGEKAQASEVDVNKMCCWVSKFKDAMRRYQGIQTCKIPGKVLSDLDAKIKAYNLTVEGVEGFVRYSRVTKQHVAAFLKELRHSKQYENVNLIHYILTDKRVDIQHLEKDLVKDFKALVESAHRMRQGHMINVKYILYQLLKKHGHGPDGPDILTVKTGSKGVLYDDSFRKIYTDLGWKFTPL\\n'"
      ]
     },
     "execution_count": 49,
     "metadata": {},
     "output_type": "execute_result"
    }
   ],
   "source": [
    "seqs[0]"
   ]
  },
  {
   "cell_type": "code",
   "execution_count": 62,
   "id": "d7feccf3-0b8b-464f-99b0-46354a6424c4",
   "metadata": {},
   "outputs": [],
   "source": []
  },
  {
   "cell_type": "code",
   "execution_count": 65,
   "id": "b18b9e5e-c40c-4415-b1ca-6eb9054286fb",
   "metadata": {},
   "outputs": [],
   "source": [
    "alphabet = set()\n",
    "for s in seqs:\n",
    "    alphabet.update(s)"
   ]
  },
  {
   "cell_type": "code",
   "execution_count": 84,
   "id": "6eb32cfd-0157-4308-bbeb-e31451700728",
   "metadata": {},
   "outputs": [],
   "source": [
    "alphabet = list(alphabet)"
   ]
  },
  {
   "cell_type": "code",
   "execution_count": 71,
   "id": "de26eb26-6ab2-4d18-b369-2c143ae84d57",
   "metadata": {},
   "outputs": [
    {
     "ename": "TypeError",
     "evalue": "descriptor 'normalize_str' for 'tokenizers.normalizers.Normalizer' objects doesn't apply to a 'str' object",
     "output_type": "error",
     "traceback": [
      "\u001b[1;31m---------------------------------------------------------------------------\u001b[0m",
      "\u001b[1;31mTypeError\u001b[0m                                 Traceback (most recent call last)",
      "Cell \u001b[1;32mIn[71], line 1\u001b[0m\n\u001b[1;32m----> 1\u001b[0m \u001b[43mnormalizers\u001b[49m\u001b[38;5;241;43m.\u001b[39;49m\u001b[43mNFKC\u001b[49m\u001b[38;5;241;43m.\u001b[39;49m\u001b[43mnormalize_str\u001b[49m\u001b[43m(\u001b[49m\u001b[38;5;124;43m\"\u001b[39;49m\u001b[38;5;124;43mthis string\u001b[39;49m\u001b[38;5;124;43m\"\u001b[39;49m\u001b[43m)\u001b[49m\n",
      "\u001b[1;31mTypeError\u001b[0m: descriptor 'normalize_str' for 'tokenizers.normalizers.Normalizer' objects doesn't apply to a 'str' object"
     ]
    }
   ],
   "source": [
    "normalizers.NFKC.normalize_str(\"this string\")"
   ]
  },
  {
   "cell_type": "code",
   "execution_count": null,
   "id": "c40f901e-abff-4b32-ad5f-918823ec7bd3",
   "metadata": {},
   "outputs": [],
   "source": []
  }
 ],
 "metadata": {
  "kernelspec": {
   "display_name": "Python 3 (ipykernel)",
   "language": "python",
   "name": "python3"
  },
  "language_info": {
   "codemirror_mode": {
    "name": "ipython",
    "version": 3
   },
   "file_extension": ".py",
   "mimetype": "text/x-python",
   "name": "python",
   "nbconvert_exporter": "python",
   "pygments_lexer": "ipython3",
   "version": "3.12.4"
  }
 },
 "nbformat": 4,
 "nbformat_minor": 5
}
